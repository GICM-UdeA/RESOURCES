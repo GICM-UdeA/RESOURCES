{
 "cells": [
  {
   "cell_type": "code",
   "execution_count": 1,
   "metadata": {},
   "outputs": [
    {
     "ename": "ModuleNotFoundError",
     "evalue": "No module named 'ipywidgets'",
     "output_type": "error",
     "traceback": [
      "\u001b[1;31m---------------------------------------------------------------------------\u001b[0m",
      "\u001b[1;31mModuleNotFoundError\u001b[0m                       Traceback (most recent call last)",
      "Cell \u001b[1;32mIn [1], line 3\u001b[0m\n\u001b[0;32m      1\u001b[0m \u001b[38;5;66;03m# Calculadora de Aportes a Seguridad Social en Colombia\u001b[39;00m\n\u001b[1;32m----> 3\u001b[0m \u001b[38;5;28;01mfrom\u001b[39;00m \u001b[38;5;21;01mipywidgets\u001b[39;00m \u001b[38;5;28;01mimport\u001b[39;00m interact, widgets\n\u001b[0;32m      5\u001b[0m SMMLV \u001b[38;5;241m=\u001b[39m \u001b[38;5;241m1300000\u001b[39m\n\u001b[0;32m      7\u001b[0m \u001b[38;5;28;01mdef\u001b[39;00m \u001b[38;5;21mcalcular_aportes\u001b[39m(ingreso, arl):\n",
      "\u001b[1;31mModuleNotFoundError\u001b[0m: No module named 'ipywidgets'"
     ]
    }
   ],
   "source": [
    "# Calculadora de Aportes a Seguridad Social en Colombia\n",
    "\n",
    "from ipywidgets import interact, widgets\n",
    "\n",
    "SMMLV = 1300000\n",
    "\n",
    "def calcular_aportes(ingreso, arl):\n",
    "    IBC = 0.4 * ingreso\n",
    "    IBC = IBC  if IBC >= SMMLV else SMMLV\n",
    "    \n",
    "    pension = 0.16 * IBC\n",
    "    salud = 0.125 * IBC\n",
    "    riesgos = 0.00522 * IBC if arl else 0\n",
    "    total_aportes = pension + salud + riesgos\n",
    "    \n",
    "    # Generar tabla Markdown\n",
    "    resultado_md = \"| Tipo de Aporte | Monto |\\n\"\n",
    "    resultado_md += \"| :---: | :---: |\\n\"\n",
    "    resultado_md += f\"| Pensión (16%) | {pension:.2f} COP |\\n\"\n",
    "    resultado_md += f\"| Salud (12.5%) | {salud:.2f} COP |\\n\"\n",
    "    resultado_md += f\"| Riesgos Laborales (0.522%) | {riesgos:.2f} COP |\\n\"\n",
    "    resultado_md += f\"| **Total de Aportes** | **{total_aportes:.2f} COP** |\\n\"\n",
    "    \n",
    "    # Imprimir tabla Markdown\n",
    "    from IPython.display import display, Markdown\n",
    "    display(Markdown(resultado_md))\n",
    "\n",
    "_=interact(calcular_aportes,\n",
    "        ingreso=widgets.FloatText(min=0, max=10000000, step=10000, value=0, description=\"Ingreso Mensual (COP):\"),\n",
    "        arl=widgets.Checkbox(value=True, description='Incluir ARL',disabled=False),\n",
    "        )\n"
   ]
  },
  {
   "cell_type": "code",
   "execution_count": null,
   "metadata": {},
   "outputs": [],
   "source": []
  }
 ],
 "metadata": {
  "kernelspec": {
   "display_name": "\"Python/Mu (mu_venv-38-20240319-015419)\"",
   "language": "python",
   "name": "mu_venv-38-20240319-015419"
  },
  "language_info": {
   "codemirror_mode": {
    "name": "ipython",
    "version": 3
   },
   "file_extension": ".py",
   "mimetype": "text/x-python",
   "name": "python",
   "nbconvert_exporter": "python",
   "pygments_lexer": "ipython3",
   "version": "3.8.12"
  }
 },
 "nbformat": 4,
 "nbformat_minor": 2
}
